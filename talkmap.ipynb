{
 "cells": [
  {
   "cell_type": "markdown",
   "metadata": {},
   "source": [
    "# Leaflet cluster map of talk locations\n",
    "\n",
    "Run this from the _talks/ directory, which contains .md files of all your talks. This scrapes the location YAML field from each .md file, geolocates it with geopy/Nominatim, and uses the getorg library to output data, HTML, and Javascript for a standalone cluster map."
   ]
  },
  {
   "cell_type": "code",
   "execution_count": 1,
   "metadata": {
    "collapsed": false
   },
   "outputs": [
    {
     "name": "stdout",
     "output_type": "stream",
     "text": [
      "Requirement already satisfied: getorg in c:\\users\\mynam\\anaconda3\\lib\\site-packages (0.3.1)\n",
      "Requirement already satisfied: pygithub in c:\\users\\mynam\\anaconda3\\lib\\site-packages (from getorg) (1.55)\n",
      "Requirement already satisfied: geopy in c:\\users\\mynam\\anaconda3\\lib\\site-packages (from getorg) (2.2.0)\n",
      "Requirement already satisfied: retrying in c:\\users\\mynam\\anaconda3\\lib\\site-packages (from getorg) (1.3.3)\n",
      "Requirement already satisfied: geographiclib<2,>=1.49 in c:\\users\\mynam\\anaconda3\\lib\\site-packages (from geopy->getorg) (1.52)\n",
      "Requirement already satisfied: pynacl>=1.4.0 in c:\\users\\mynam\\anaconda3\\lib\\site-packages (from pygithub->getorg) (1.4.0)\n",
      "Requirement already satisfied: requests>=2.14.0 in c:\\users\\mynam\\anaconda3\\lib\\site-packages (from pygithub->getorg) (2.25.1)\n",
      "Requirement already satisfied: pyjwt>=2.0 in c:\\users\\mynam\\anaconda3\\lib\\site-packages (from pygithub->getorg) (2.3.0)\n",
      "Requirement already satisfied: deprecated in c:\\users\\mynam\\anaconda3\\lib\\site-packages (from pygithub->getorg) (1.2.13)\n",
      "Requirement already satisfied: cffi>=1.4.1 in c:\\users\\mynam\\anaconda3\\lib\\site-packages (from pynacl>=1.4.0->pygithub->getorg) (1.14.6)\n",
      "Requirement already satisfied: six in c:\\users\\mynam\\anaconda3\\lib\\site-packages (from pynacl>=1.4.0->pygithub->getorg) (1.16.0)\n",
      "Requirement already satisfied: pycparser in c:\\users\\mynam\\anaconda3\\lib\\site-packages (from cffi>=1.4.1->pynacl>=1.4.0->pygithub->getorg) (2.20)\n",
      "Requirement already satisfied: chardet<5,>=3.0.2 in c:\\users\\mynam\\anaconda3\\lib\\site-packages (from requests>=2.14.0->pygithub->getorg) (4.0.0)\n",
      "Requirement already satisfied: idna<3,>=2.5 in c:\\users\\mynam\\anaconda3\\lib\\site-packages (from requests>=2.14.0->pygithub->getorg) (2.10)\n",
      "Requirement already satisfied: certifi>=2017.4.17 in c:\\users\\mynam\\anaconda3\\lib\\site-packages (from requests>=2.14.0->pygithub->getorg) (2021.5.30)\n",
      "Requirement already satisfied: urllib3<1.27,>=1.21.1 in c:\\users\\mynam\\anaconda3\\lib\\site-packages (from requests>=2.14.0->pygithub->getorg) (1.26.6)\n",
      "Requirement already satisfied: wrapt<2,>=1.10 in c:\\users\\mynam\\anaconda3\\lib\\site-packages (from deprecated->pygithub->getorg) (1.12.1)\n",
      "Iywidgets and ipyleaflet support disabled. You must be in a Jupyter notebook to use this feature.\n",
      "Error raised:\n",
      "No module named 'ipyleaflet'\n",
      "Check that you have enabled ipyleaflet in Jupyter with:\n",
      "    jupyter nbextension enable --py ipyleaflet\n"
     ]
    }
   ],
   "source": [
    "!pip install getorg --upgrade\n",
    "import glob\n",
    "import getorg\n",
    "from geopy import Nominatim"
   ]
  },
  {
   "cell_type": "code",
   "execution_count": 16,
   "metadata": {
    "collapsed": false
   },
   "outputs": [],
   "source": [
    "g = glob.glob(\"_talks/*.md\")"
   ]
  },
  {
   "cell_type": "code",
   "execution_count": 18,
   "metadata": {
    "collapsed": true
   },
   "outputs": [],
   "source": [
    "geocoder = Nominatim(user_agent='sagar_website')\n",
    "location_dict = {}\n",
    "location = \"\"\n",
    "permalink = \"\"\n",
    "title = \"\""
   ]
  },
  {
   "cell_type": "code",
   "execution_count": 19,
   "metadata": {
    "collapsed": false
   },
   "outputs": [
    {
     "name": "stdout",
     "output_type": "stream",
     "text": [
      "Troy, New York \n",
      " City of Troy, Rensselaer County, New York, United States\n",
      "Troy, New York \n",
      " City of Troy, Rensselaer County, New York, United States\n",
      "Troy, New York \n",
      " City of Troy, Rensselaer County, New York, United States\n",
      "Portsmouth, New Hampshire \n",
      " Portsmouth, Rockingham County, New Hampshire, United States\n",
      "Troy, New York \n",
      " City of Troy, Rensselaer County, New York, United States\n",
      "Troy, New York \n",
      " City of Troy, Rensselaer County, New York, United States\n",
      "Troy, New York \n",
      " City of Troy, Rensselaer County, New York, United States\n",
      "Austin, Texas \n",
      " Austin, Travis County, Texas, United States\n"
     ]
    }
   ],
   "source": [
    "\n",
    "for file in g:\n",
    "    with open(file, 'r') as f:\n",
    "        lines = f.read()\n",
    "        if lines.find('location: \"') > 1:\n",
    "            loc_start = lines.find('location: \"') + 11\n",
    "            lines_trim = lines[loc_start:]\n",
    "            loc_end = lines_trim.find('\"')\n",
    "            location = lines_trim[:loc_end]\n",
    "                            \n",
    "           \n",
    "        location_dict[location] = geocoder.geocode(location)\n",
    "        print(location, \"\\n\", location_dict[location])\n"
   ]
  },
  {
   "cell_type": "code",
   "execution_count": 20,
   "metadata": {
    "collapsed": false
   },
   "outputs": [
    {
     "data": {
      "text/plain": [
       "'Written map to ../talkmap/'"
      ]
     },
     "execution_count": 20,
     "metadata": {},
     "output_type": "execute_result"
    }
   ],
   "source": [
    "m = getorg.orgmap.create_map_obj()\n",
    "getorg.orgmap.output_html_cluster_map(location_dict, folder_name=\"../talkmap\", hashed_usernames=False)"
   ]
  },
  {
   "cell_type": "code",
   "execution_count": null,
   "metadata": {
    "collapsed": true
   },
   "outputs": [],
   "source": []
  }
 ],
 "metadata": {
  "anaconda-cloud": {},
  "kernelspec": {
   "display_name": "Python 3.7.10 ('base')",
   "language": "python",
   "name": "python3"
  },
  "language_info": {
   "codemirror_mode": {
    "name": "ipython",
    "version": 3
   },
   "file_extension": ".py",
   "mimetype": "text/x-python",
   "name": "python",
   "nbconvert_exporter": "python",
   "pygments_lexer": "ipython3",
   "version": "3.7.10"
  },
  "vscode": {
   "interpreter": {
    "hash": "8679167792fb1d44fc4674e1deaabc0f81d9a6a402b63cf7e0830ae2b404cd11"
   }
  }
 },
 "nbformat": 4,
 "nbformat_minor": 0
}
